{
 "cells": [
  {
   "cell_type": "markdown",
   "metadata": {},
   "source": [
    "# Supervised Learning"
   ]
  },
  {
   "cell_type": "markdown",
   "metadata": {},
   "source": [
    "### Problem: predict whether a review is helpful or unhelpful\n",
    "\n",
    "#### Given: Labeled examples"
   ]
  },
  {
   "cell_type": "markdown",
   "metadata": {},
   "source": [
    "## Classification as an ML problem\n",
    "\n",
    "#### 1. Feature vector\n",
    "        - Features are statistics or attributes that describe the data\n",
    "        - Represent data in terms of vectors\n",
    "        \n",
    "| Rating | Length | Helpful |\n",
    "| -- | -- | -- |\n",
    "| .6 | .7 | + |\n",
    "| .2 | .2 | - |\n",
    "| 1 | .9 | + |\n",
    "| .2 | .9 | - |\n",
    "| .6 | .2 | ? |\n",
    "\n",
    "\n",
    "#### In general, a specific datapoint 'i' is represented as $\\bar x^i$, with i denoting the i'th datapoint, and these vectors of datapoints all are members of some d-dimensional space of real numbers (e.g. $\\bar x^i\\in \\Bbb{R}^d$). This means that every  dimension in x is a real number, and there are d such dimension.\n",
    "\n",
    "#### By convention, $\\bar x^i$ is a \"column vector\"\n",
    "\n",
    "#### Real Example: \n",
    "\n",
    "##### &ensp;&ensp;&ensp;&ensp; The third data point in the above table is denoted as: $\\bar x^3 = \\begin{pmatrix}1\\\\.9\\end{pmatrix}$\n",
    "\n",
    "##### &ensp;&ensp;&ensp;&ensp; In this example, the table is one-indexed (shudder)"
   ]
  },
  {
   "cell_type": "markdown",
   "metadata": {},
   "source": [
    "#### Corresponding to each feature vector, we also have a label\n",
    "\n",
    "#### In general, we say that all labels ($y$), come from a space ($\\gamma$) called label space, such that $y^i\\in\\gamma$\n",
    "\n",
    "#### In this example, since our reviews are either positive or negative, we have a label space of {+,-}, or {+1,-1} for readability, meaning that we can say that $y^i\\in\\{-1,+1\\}$"
   ]
  },
  {
   "cell_type": "markdown",
   "metadata": {},
   "source": [
    "#### Given that there is a label for every feature vector, it is, in essence, paired data\n",
    "\n",
    "#### From this, we can create pairs that look like a single feature vector, with a single label: {$(\\bar x^i,y^i)$}\n",
    "\n",
    "#### Therefore, we can represent the training data for a supervised learning data set as $S_n = \\{(\\bar x^i,y^i)\\}^n_{i=1}$, where in this specific case, the whole training dataset is encompassed by n = 4 (n=5 has an unknown label, and is therefore not viable to train on)."
   ]
  },
  {
   "cell_type": "markdown",
   "metadata": {},
   "source": [
    "### How is this supervised learning?\n",
    "\n",
    "#### Every one of the feature vectors has a corresponding label, or more eloquently:\n",
    "\n",
    "##### &ensp;&ensp;&ensp;&ensp; Since we have access to labels for each of the examples in the training dataset.\n",
    "\n",
    "### How is this binary classification?\n",
    "\n",
    "#### Each $y^i\\in\\{+1,-1\\}$, which is a binary label space (there are only two things in the label space)."
   ]
  },
  {
   "cell_type": "markdown",
   "metadata": {},
   "source": [
    "## Classifier\n",
    "\n",
    "### We must obtain a function ($h$), such that, given a new example ($\\bar x$) is going to map it to either +1 or -1.\n",
    "\n",
    "#### This can be written formally as: $h(\\bar x)\\to\\{+1,-1\\}$\n",
    "\n",
    "### These functions ($h$) are known to come from some larger set of all possible functions ($H$), known as the hypothesis class, and the set of all hyperplanes (Only in this case, which itself implies we are learning a Linear Decision Boundary) where the ambient space is $\\Bbb{R}^d$\n",
    "\n",
    "#### We will pick the best $h\\in H$ via using a parameter vector ($\\bar\\theta$), which is, intuitively, an identifier which identifies which function we will use to classify a new example. \n",
    "\n",
    "#### This can be written as: $h(\\bar x;  \\bar\\theta)\\to\\{+1,-1\\} \\quad s.t.\\quad h\\in H, \\quad h: featurespace \\to labelspace$"
   ]
  },
  {
   "cell_type": "markdown",
   "metadata": {},
   "source": [
    "## Goal\n",
    "\n",
    "#### Select the best $h$ from the set of possible classifiers $H$ that would have the best chance of correctly classifying new examples (meaning an $h$ that can generalize well)"
   ]
  },
  {
   "cell_type": "markdown",
   "metadata": {},
   "source": [
    "### Sub-Goal\n",
    "\n",
    "#### Learn a linear decision boundary\n",
    "\n",
    "#### Remember:"
   ]
  },
  {
   "cell_type": "code",
   "execution_count": 2,
   "metadata": {},
   "outputs": [
    {
     "data": {
      "text/plain": [
       "Text(0, 0.5, 'Lengths')"
      ]
     },
     "execution_count": 2,
     "metadata": {},
     "output_type": "execute_result"
    },
    {
     "data": {
      "image/png": "[encoded data removed]",
      "text/plain": [
       "<Figure size 432x288 with 1 Axes>"
      ]
     },
     "metadata": {},
     "output_type": "display_data"
    }
   ],
   "source": [
    "import matplotlib.pyplot as plt\n",
    "import numpy as np\n",
    "\n",
    "plt.style.use('seaborn-whitegrid')\n",
    "\n",
    "ratings_good = [.6, .2]\n",
    "\n",
    "ratings_bad = [.2, .8]\n",
    "\n",
    "lengths_good = [.7, .9]\n",
    "\n",
    "lengths_bad = [.2, .2]\n",
    "\n",
    "rating_unknown = [.6]\n",
    "\n",
    "length_unknown = [.2]\n",
    "\n",
    "\n",
    "x = np.linspace(0,.9, 100)\n",
    "\n",
    "#This is an example, just showing the possibility for a linear boundary--not a derived one.\n",
    "example_goal_linear_boundary_y = -.6*x+.8\n",
    "\n",
    "plt.plot(x, example_goal_linear_boundary_y)\n",
    "\n",
    "plt.plot(ratings_good, lengths_good, '+', color='green')\n",
    "\n",
    "plt.plot(ratings_bad, lengths_bad, 'x', color='red')\n",
    "\n",
    "plt.plot(rating_unknown, length_unknown, '*', color='black')\n",
    "\n",
    "plt.text(.45, .83, r'*: Point of interest', fontsize=15)\n",
    "plt.xlabel(\"Ratings\")\n",
    "plt.ylabel(\"Lengths\")"
   ]
  },
  {
   "cell_type": "markdown",
   "metadata": {},
   "source": [
    "#### Predict side above line as positive, and side below line as negative.\n",
    "\n",
    "#### This will cause the Point with unknown label to be labeled as unhelpful with this example.\n",
    "\n",
    "### Why a linear decision boundary? \n",
    "\n",
    "#### Remember the last lecture (Lecture_One_Introduction), and the problems with overfitting\n",
    "\n",
    "### Therefore, we constrain all possible choices, thereby constraining $H$\n",
    "\n",
    "#### But wait! Remember the last lecture again, underfitting is also a problem, which can be a problem if $H$ is too constrained.\n",
    "\n",
    "#### This balancing between over and underfitting to get the perfect constraint on $H$ is called model selection"
   ]
  },
  {
   "cell_type": "markdown",
   "metadata": {},
   "source": [
    "### Hyperplanes in $\\Bbb{R}^d$\n",
    "\n",
    "#### Definition: A hyperplane in $\\Bbb{R}^d$ can be specified by parameter vector $\\bar\\theta\\in\\Bbb{R}^d$ and offset $b\\in\\Bbb{R}$\n",
    "\n",
    "#### It is the set of points $\\bar x\\in \\Bbb{R}^d$ such that $\\bar\\theta\\cdot\\bar x+b=0$\n",
    "\n",
    "#### Where $\\bar\\theta\\cdot\\bar x = \\theta_1\\cdot x_1+\\ldots+\\theta_d\\cdot x_d=\\sum_{i=1}^{d} \\theta_i\\cdot x_i$\n",
    "\n",
    "#### Remember that a subscript of \"i\" indicates which dimension it lives in, so in our graph, Ratings lives on $x_1$, and Lengths lives on $x_2$"
   ]
  },
  {
   "cell_type": "markdown",
   "metadata": {},
   "source": [
    "### Simplifying assumptions (to be broken quite quickly, so don't get used to them):\n",
    "\n",
    "#### Constrain $H$ to be the set of all hyperplanes that go through the origin (effectively setting b=0)\n",
    "\n",
    "#### Constrain the problem to datasets that are linearly separable (an optimal decision boundary will be linear)\n",
    "\n"
   ]
  },
  {
   "cell_type": "markdown",
   "metadata": {},
   "source": [
    "### Recall from Linear Algebra:\n",
    "\n",
    "#### For $\\bar\\theta$, $\\bar x\\in\\Bbb{R}^d$:\n",
    "\n",
    "##### $\\quad$The L2 norm of $\\bar\\theta$ = $\\left\\Vert\\bar\\theta\\right\\Vert^2_2$ = $\\bar\\theta^2_1+\\ldots+\\bar\\theta_d^2$\n",
    "\n",
    "#### Dot Product\n",
    "\n",
    "##### $\\quad$ $\\bar\\theta\\cdot\\bar x$ = $\\theta_1\\cdot x_1+\\ldots+\\theta_d\\cdot x_d$ = $\\sum_{i=1}^{d} \\theta_i\\cdot x_i$ = $\\left\\Vert\\bar\\theta\\right\\Vert^2_2\\cdot\\left\\Vert\\bar x \\right\\Vert^2_2 \\cdot cos\\alpha$"
   ]
  },
  {
   "cell_type": "markdown",
   "metadata": {},
   "source": [
    "### Natural way to deine a linear classifier:\n",
    "\n",
    "#### For a given decision boundary$\\bar\\theta\\cdot\\bar x=0$\n",
    "\n",
    "#### We define the classifier $h(\\bar x; \\bar\\theta)$ is the sign of the value of $\\bar x\\cdot\\bar\\theta$\n",
    "\n",
    "##### $\\quad$ e.g. if $\\bar x\\cdot\\bar\\theta$ is negative, we classify as negative, etc.\n",
    "\n",
    "#### By convention, points on the hyperplane are assumed misclassified."
   ]
  },
  {
   "cell_type": "markdown",
   "metadata": {},
   "source": [
    "#### The choice of $\\bar\\theta$ determines:\n",
    "##### $\\quad$ Orientation of the hyperplane:\n",
    "###### $\\quad$$\\quad$ e.g. in $\\Bbb{R}^2$: $\\quad\\bar x\\cdot\\bar\\theta$ = $\\theta_1\\cdot x_1+\\theta_2\\cdot x_2$ = 0, which implies $x_2=-\\frac{\\theta_1\\cdot x_1}{\\theta_2}$\n",
    "##### $\\quad$ The predicted class label"
   ]
  },
  {
   "cell_type": "markdown",
   "metadata": {},
   "source": [
    "## Selecting $\\bar\\theta$"
   ]
  },
  {
   "cell_type": "markdown",
   "metadata": {},
   "source": [
    "### Find $\\bar\\theta$ that works well on training data $S_n = \\{(\\bar x^i,y^i)\\}^n_{i=1}$\n",
    "\n",
    "### Training error: $E_n(\\bar\\theta)$ is the fraction of miscalssified points (measures how well $\\bar\\theta$ classifies $S_n$\n",
    "\n",
    "### We use an indicator function such as: $[\\![p]\\!] = \\begin{cases} 1, &\\text{is true}\\\\0, &\\text{otherwise}\\end{cases}$\n",
    "\n",
    "#### $\\quad$We can use an indicator function like in the following example:\n",
    "\n",
    "##### $\\quad$$\\quad$$\\quad\\sum_{i=1}^{n}[\\![y^i\\neq h(\\bar x^i;\\bar\\theta)]\\!]$\n",
    "\n",
    "##### $\\quad$$\\quad$$\\quad$$\\quad$ This gets us the total of all points that were classified incorrectly via parameter $\\bar\\theta$ w.r.t. the true labels\n",
    "\n",
    "##### $\\quad$$\\quad$$\\quad$$\\quad y^i$ is the true label, while $h(\\bar x^i;\\bar\\theta)$ is the predicted label\n",
    "\n",
    "#### $\\quad$We can then divide by the number of data points to get the fraction of missclassified points, which is $E_n(\\bar\\theta)$, stating $E_n(\\bar\\theta)=\\frac{\\sum_{i=1}^{n}[\\![y^i\\neq h(\\bar x^i;\\bar\\theta)]\\!]}{n}$\n",
    "\n",
    "### Given that this is a binary classifier, we can then state that this is equal to $E_n(\\bar\\theta)=\\frac{\\sum_{i=1}^{n}[\\![y^i\\cdot h(\\bar x^i;\\bar\\theta) < 0]\\!]}{n}$, and since points on the hyperplane are assumed misclassified: $E_n(\\bar\\theta)=\\frac{\\sum_{i=1}^{n}[\\![y^i\\cdot h(\\bar x^i;\\bar\\theta) \\leq 0]\\!]}{n}$\n",
    "\n",
    "#### $\\quad$ We can do the former based on binary classification because a prediction of -1, and an actual of -1 multiplies to be positive, and is a correct prediction. A prediction of -1 and an actual of 1 multiplies to be negative, and is a misprediction, etc. Therefore, we can just say that anything less than or equal to 0 is a misclassification."
   ]
  },
  {
   "cell_type": "markdown",
   "metadata": {},
   "source": [
    "## Goal: Learn a linear decision boundary (through the origin) that minimizes training error"
   ]
  },
  {
   "cell_type": "markdown",
   "metadata": {},
   "source": [
    "## The Algorithm"
   ]
  },
  {
   "cell_type": "markdown",
   "metadata": {},
   "source": [
    "### Perceptron Algorithm\n",
    "\n",
    "#### On input $S_n = \\{(\\bar x^i,y^i)\\}^n_{i=1}$\n",
    "\n",
    "#### Initialize $k$ = 0, $\\bar\\theta^{(0)}$ = $\\bar 0$\n",
    "\n",
    "#### While there exists a misclassified point (Any point for which $y^i(\\bar\\theta^k\\cdot \\bar x^i) \\leq 0$)\n",
    "\n",
    "#### $\\quad$ for $i,\\ldots,n$\n",
    "\n",
    "#### $\\quad\\quad$ if $y^i(\\bar\\theta^k\\cdot \\bar x^i) \\leq 0$\n",
    "\n",
    "#### $\\quad\\quad\\quad \\bar\\theta^{k+1}=\\bar\\theta^k+y^i\\cdot\\bar x^i$\n",
    "\n",
    "#### $\\quad\\quad\\quad k$++\n",
    "\n",
    "#### If the data is linearly separable"
   ]
  },
  {
   "cell_type": "markdown",
   "metadata": {},
   "source": [
    "### The perceptron is actually a type of Single Layer Neural Network\n",
    "\n",
    "### Review: Perceptron Algorithm updates based on single misclassification at a time, and moves the hyperplane in the right direction based on that point"
   ]
  },
  {
   "cell_type": "markdown",
   "metadata": {},
   "source": [
    "## Example:"
   ]
  },
  {
   "cell_type": "code",
   "execution_count": 12,
   "metadata": {},
   "outputs": [],
   "source": [
    "#dot product of two lists\n",
    "dot_product = lambda V1, V2 : sum([x*y for x,y in zip(V1,V2)])\n",
    "\n",
    "#element-wise addition of two lists, for the update step\n",
    "list_addition = lambda list1, list2 : [sum(x) for x in zip(list1, list2)]\n",
    "\n",
    "def algorithm_if(x_i,y_i,theta_k):\n",
    "    if y_i * dot_product(theta_k,x_i) <= 0:\n",
    "        return True\n",
    "    return False\n",
    "\n",
    "# Is there such a point that fulfills the while condition in the algorithm?\n",
    "def algorithm_while(x,y,theta):\n",
    "    for i in range(len(x)):\n",
    "        if algorithm_if(x[i],y[i],theta):\n",
    "            return True\n",
    "    return False"
   ]
  },
  {
   "cell_type": "code",
   "execution_count": 13,
   "metadata": {},
   "outputs": [],
   "source": [
    "#x data points, where [6,6] is x_1, and [9,1] is x_2\n",
    "x = [[6,6],[9,1]]\n",
    "\n",
    "# This is not a label space, it is stating that the first datapoint has true label \"1\", and second datapoint, \"-1\"\n",
    "y = [1,-1]\n",
    "\n",
    "# These two are the starting conditions for perceptron\n",
    "theta = [0,0]\n",
    "\n",
    "#not really necessary with recursion, the update step is a basic += in python.\n",
    "k=0"
   ]
  },
  {
   "cell_type": "code",
   "execution_count": 14,
   "metadata": {},
   "outputs": [
    {
     "name": "stdout",
     "output_type": "stream",
     "text": [
      "[-3, 5]\n"
     ]
    }
   ],
   "source": [
    "#Perceptron algorithm.\n",
    "while algorithm_while(x,y,theta):\n",
    "    for i in range(len(x)):\n",
    "        if algorithm_if(x[i],y[i],theta):\n",
    "            theta = list_addition(theta, [y[i] * element for element in x[i]])\n",
    "print(theta)"
   ]
  },
  {
   "cell_type": "markdown",
   "metadata": {},
   "source": [
    "##### Look at the code above, notice that convergence is not guaranteed for linearly-unseparabale data"
   ]
  },
  {
   "cell_type": "markdown",
   "metadata": {},
   "source": [
    "### Why does this update make sense?\n",
    "\n",
    "#### Suppose in the k'th iteration the algorithm considers the point $\\bar x^i$ if $\\bar x^i$ is correctly classified\n",
    "\n",
    "#### $\\quad$ This means that the parameter is not updated\n",
    "\n",
    "#### Suppose in the k'th iteration the algorithm considers the point $\\bar x^i$, and it is misclassified\n",
    "\n",
    "#### $\\quad$ This means that the parameter is updated\n",
    "\n",
    "#### $\\quad$ It is updated according to the misclassification in an attempt to right itself, This means that the parameter is updated depending on how badly misclassified it was, thereby obtaining our $\\bar\\theta^{k+1}=\\bar\\theta^k+y^i\\cdot\\bar x^i$"
   ]
  },
  {
   "cell_type": "markdown",
   "metadata": {},
   "source": [
    "## Perceptron Convergence\n",
    "\n",
    "### Theorem: The perceptron algorithm converges after a finite number of steps when the training examples are linearly separable\n",
    "\n",
    "#### What is the training error at convergence?\n",
    "\n",
    "##### $\\quad E_n(\\bar\\theta)=0$ at convergence\n",
    "\n",
    "#### What if the examples are not linearly separable?\n",
    "\n",
    "##### $\\quad$ The algorithm does not converge\n",
    "##### $\\quad$ Moreover, it does not find the classifier with the smallest training error"
   ]
  },
  {
   "cell_type": "code",
   "execution_count": null,
   "metadata": {},
   "outputs": [],
   "source": []
  }
 ],
 "metadata": {
  "kernelspec": {
   "display_name": "Python 3",
   "language": "python",
   "name": "python3"
  },
  "language_info": {
   "codemirror_mode": {
    "name": "ipython",
    "version": 3
   },
   "file_extension": ".py",
   "mimetype": "text/x-python",
   "name": "python",
   "nbconvert_exporter": "python",
   "pygments_lexer": "ipython3",
   "version": "3.8.5"
  }
 },
 "nbformat": 4,
 "nbformat_minor": 4
}
